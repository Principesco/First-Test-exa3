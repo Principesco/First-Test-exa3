{
 "cells": [
  {
   "cell_type": "code",
   "execution_count": 3,
   "id": "9c58b2d9",
   "metadata": {},
   "outputs": [
    {
     "name": "stdout",
     "output_type": "stream",
     "text": [
      "Primer Data SET\n",
      "[[-1.76808628  0.67892931 -2.17710363 ... -0.38416886 -0.51632671\n",
      "  -1.32569795]\n",
      " [-1.75974109 -0.72061238 -2.17710363 ... -0.09007382 -0.24283869\n",
      "  -1.55373945]\n",
      " [-1.73934173  0.05691078 -2.17710363 ...  0.49811626  0.44088136\n",
      "  -0.29951119]\n",
      " ...\n",
      " [ 1.08249199  0.21241541 -0.49758668 ...  0.49811626  0.37250936\n",
      "  -1.09765645]\n",
      " [ 1.13024503  0.44567236 -0.28764706 ... -0.97235894 -0.92655874\n",
      "   0.61265481]\n",
      " [ 1.18240247  0.29016773 -0.07770744 ... -1.56054902 -1.54190679\n",
      "  -0.07146969]]\n",
      "[[6.63344204e-02 2.19452218e-02 9.97510081e-01 ... 2.49377520e-03\n",
      "  8.97759072e-03 1.99502016e-03]\n",
      " [8.41873510e-02 1.29519002e-02 9.96300012e-01 ... 2.98890003e-03\n",
      "  1.09593001e-02 9.96300012e-04]\n",
      " [1.27411914e-01 1.78475832e-02 9.91532403e-01 ... 3.96612961e-03\n",
      "  1.58645184e-02 6.44496062e-03]\n",
      " ...\n",
      " [9.87193794e-01 3.01796977e-03 1.59475876e-01 ... 6.35362056e-04\n",
      "  2.46202797e-03 4.76521542e-04]\n",
      " [9.87588871e-01 3.20442733e-03 1.57016939e-01 ... 2.34470292e-04\n",
      "  9.37881169e-04 1.64129205e-03]\n",
      " [9.88001418e-01 2.99603882e-03 1.54411232e-01 ... 7.68215083e-05\n",
      "  2.30464525e-04 1.15232262e-03]]\n",
      "[[0.00796056 0.76276276 0.         ... 0.39439439 0.35485485 0.11311311]\n",
      " [0.00991005 0.27727728 0.         ... 0.47847848 0.43393393 0.05005005]\n",
      " [0.01446121 0.58808809 0.         ... 0.65215215 0.63763764 0.41741742]\n",
      " ...\n",
      " [0.80934445 0.63713714 0.30980981 ... 0.65215215 0.61611612 0.18068068]\n",
      " [0.82191882 0.7042042  0.35585586 ... 0.21721722 0.22922923 0.67817818]\n",
      " [0.83728892 0.66016016 0.4049049  ... 0.         0.04554555 0.48148148]]\n"
     ]
    }
   ],
   "source": [
    "\n",
    "import math\n",
    "import numpy as np\n",
    "import pandas as pn\n",
    "print('Primer Data SET')\n",
    "A=pn.read_csv('PoliceFatalities2.csv',skiprows=0,usecols=[0,2,7,8,9,10,11])\n",
    "V1=np.array(A)\n",
    "\n",
    "from sklearn import preprocessing\n",
    "matriz=preprocessing.scale(V1)\n",
    "print(matriz)\n",
    "from sklearn import preprocessing\n",
    "matriz=preprocessing.normalize(V1)\n",
    "print(matriz)\n",
    "from sklearn import preprocessing\n",
    "matriz=preprocessing.quantile_transform(V1)\n",
    "print(matriz)"
   ]
  },
  {
   "cell_type": "code",
   "execution_count": null,
   "id": "eab6fccf",
   "metadata": {},
   "outputs": [],
   "source": []
  }
 ],
 "metadata": {
  "kernelspec": {
   "display_name": "Python 3",
   "language": "python",
   "name": "python3"
  },
  "language_info": {
   "codemirror_mode": {
    "name": "ipython",
    "version": 3
   },
   "file_extension": ".py",
   "mimetype": "text/x-python",
   "name": "python",
   "nbconvert_exporter": "python",
   "pygments_lexer": "ipython3",
   "version": "3.8.8"
  }
 },
 "nbformat": 4,
 "nbformat_minor": 5
}
